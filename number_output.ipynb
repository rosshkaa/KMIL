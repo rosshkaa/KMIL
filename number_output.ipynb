import numpy as np
import matplotlib.pyplot as plt

%matplotlib inline
from sklearn import decomposition
from sklearn import datasets

digits = datasets.load_digits()
X = digits.data
y = digits.target

plt.figure(figsize=(16, 6))
for i in range(10):
    plt.subplot(2, 5, i + 1)
    plt.imshow(X[i,:].reshape([8,8]));
