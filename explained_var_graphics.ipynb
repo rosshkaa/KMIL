import numpy as np
import matplotlib.pyplot as plt

%matplotlib inline
from sklearn import decomposition
from sklearn import datasets
from sklearn.manifold import TSNE
tsne = TSNE(random_state=17)

digits = datasets.load_digits()
X = digits.data
y = digits.target


pca = decomposition.PCA().fit(X)

plt.figure(figsize=(10,7))
plt.plot(np.cumsum(pca.explained_variance_ratio_), color='k', lw=2)
plt.xlabel('№ components')
plt.ylabel('Explained variance')
plt.xlim(0, 63)
plt.yticks(np.arange(0, 1.1, 0.1))
plt.axvline(20, c='b')
plt.axhline(0.9, c='r')
plt.show();
