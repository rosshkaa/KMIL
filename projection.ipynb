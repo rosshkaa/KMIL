import numpy as np
import matplotlib.pyplot as plt

%matplotlib inline
from sklearn import decomposition
from sklearn import datasets

digits = datasets.load_digits()
X = digits.data
y = digits.target

# plt.figure(figsize=(16, 6))
# for i in range(10):
#     plt.subplot(2, 5, i + 1)
#     plt.imshow(X[i,:].reshape([8,8]));
    
pca = decomposition.PCA(n_components=2)
X_reduced = pca.fit_transform(X)

plt.figure(figsize=(12,10))
plt.scatter(X_reduced[:, 0], X_reduced[:, 1], c=y, 
            edgecolor='none', alpha=0.9, s=90,
            cmap=plt.cm.get_cmap('nipy_spectral', 10))
plt.colorbar()
