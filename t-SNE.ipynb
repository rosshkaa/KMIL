import numpy as np
import matplotlib.pyplot as plt

%matplotlib inline
from sklearn import decomposition
from sklearn import datasets
from sklearn.manifold import TSNE
tsne = TSNE(random_state=17)

digits = datasets.load_digits()
X = digits.data
y = digits.target

X_tsne = tsne.fit_transform(X)

plt.figure(figsize=(12,10))
plt.scatter(X_tsne[:, 0], X_tsne[:, 1], c=y, 
            edgecolor='none', alpha=0.9, s=90,
            cmap=plt.cm.get_cmap('nipy_spectral', 10))
plt.colorbar()
plt.title('t-SNE')
